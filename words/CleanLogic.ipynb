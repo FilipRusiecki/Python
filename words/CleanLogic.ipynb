{
 "cells": [
  {
   "cell_type": "code",
   "execution_count": 63,
   "id": "aa3311d2",
   "metadata": {},
   "outputs": [],
   "source": [
    "import random                      #HERE WE IMPORT THE RANDOM\n",
    "from collections import Counter    #IMPORTING THE COUNTER\n",
    "from datetime import datetime      #WE IMPORT THIS TO CHECK FOR TIME  \n",
    "from flask import Flask, request, render_template"
   ]
  },
  {
   "cell_type": "code",
   "execution_count": 64,
   "id": "8540750b",
   "metadata": {},
   "outputs": [],
   "source": [
    "with open('smallWords.txt',\"w\") as sf:      #THIS CODE GETS RID OF UNWANTED CHARACTERS AND PUTS THEM TO LOWERCASE\n",
    "    with open(\"bigWords.txt\",\"w\") as bf:\n",
    "        with open(\"words.txt\") as wf:\n",
    "            with open(\"endWords.txt\",\"w\") as ff:\n",
    "                for w in wf:\n",
    "                    if \"'s\" not in w:\n",
    "                        print(w.strip().lower(), file = ff)    \n",
    "                    if len(w) > 7:\n",
    "                        print(w.strip().lower(), file = bf)\n",
    "                    else: \n",
    "                        print(w.strip().lower(),file = sf)"
   ]
  },
  {
   "cell_type": "code",
   "execution_count": 69,
   "id": "e1ba60af",
   "metadata": {},
   "outputs": [
    {
     "name": "stdout",
     "output_type": "stream",
     "text": [
      "waterfowl\n"
     ]
    }
   ],
   "source": [
    "with open (\"bigWords.txt\") as bf:             #THIS CODE CREATES A RANDOM WORD FROM THE BIGWORDS TEXT FILE \n",
    "    myList = bf.read()\n",
    "myList = myList.split(\"\\n\")\n",
    "index = random.randrange(len(myList))\n",
    "sourceword = myList[index]\n",
    "print(myList[index])"
   ]
  },
  {
   "cell_type": "code",
   "execution_count": null,
   "id": "2950e9bf",
   "metadata": {},
   "outputs": [
    {
     "name": "stdout",
     "output_type": "stream",
     "text": [
      "Enter Words:water\n",
      "not sourceword\n",
      "Word Found\n",
      "You guessed correctly\n",
      "Enter Words:waterfowl\n",
      "LETS GO \n",
      "Word Found\n",
      "You guessed correctly\n"
     ]
    }
   ],
   "source": [
    "mainWord = Counter(sourceword)                    #THIS CODE CHECKS ARE THE WORDS VALID AND ALLOWED TO USE, CHECKS IF THEY ARE\n",
    "guesswordList = []                                #A REAL WORD.\n",
    "wordWrong = False\n",
    "wordRight = False\n",
    "duplicateCounter = 0\n",
    "starttime = datetime.now()                         #STARTS THE TIMER \n",
    "for guesses in range(7):                           \n",
    "    guessWord = (input(\"Enter Words:\"))            \n",
    "    guesswordList.append(guessWord)                \n",
    "    guess = Counter(guessWord)                     \n",
    "    guess = guess - mainWord                       \n",
    "    mainWord = Counter(sourceword)                 \n",
    "\n",
    "    with open('endWords.txt',\"r\") as sf:\n",
    "        for line in sf:\n",
    "            stripped_line = line.strip()\n",
    "            if stripped_line == guessWord:\n",
    "                wordRight = True\n",
    "                break;\n",
    "            else:\n",
    "                wordRight = False\n",
    "              \n",
    "    if guessWord == sourceword:\n",
    "        print(\"LETS GO \")\n",
    "    else:\n",
    "        print(\"not sourceword\")   \n",
    "    if len(guessWord) < 4:\n",
    "        print(\"the word is less than 4 letters\")\n",
    "        break;\n",
    "    if wordRight == True:\n",
    "        print(\"Word Found\")\n",
    "        if bool(guess) == True: # Checks if the guess word is empty, and if it isn't, the letters don't match\n",
    "            print(\"Your letters don't match\")\n",
    "            wordWrong = True ## this will currently break out of the loop, if the word does not match\n",
    "            break;\n",
    "        if bool(guess) == False: # Checks if the guess word is empty, and if it is, then the letters match\n",
    "            print(\"You guessed correctly\")           \n",
    "    if wordRight == False:\n",
    "        print(\"no Word Found\")\n",
    "    wordRight = False\n",
    "    \n",
    "\n",
    "    \n",
    "endtime = datetime.now()                                                #AFTER THE PLAYER WILL FINISH GUESSING IT WILL CREATE A                                                                         #A TIME STAMP TO A NEW VARIABLE\n",
    "resulttime = endtime - starttime                                        #THIS WILL CALCUALTE THE TIME THAT TOOK THE PLAYER\n",
    "resulttime = str(resulttime)\n",
    "print('Congrats, your finish time is','',resulttime,'')                 #THIS PRINTS OUT THE TIME THAT TOOK THE PLAYER TO ANSWER"
   ]
  },
  {
   "cell_type": "code",
   "execution_count": null,
   "id": "ae8445ec",
   "metadata": {},
   "outputs": [],
   "source": [
    "if bool(guess) == True:                #THIS CODE WILL CHECK IF THE WORD THAT PLAYER HAS INPUT MATCHES THE SOURCE WORD\n",
    "    print(\"Your letters don't match\")\n",
    "if bool(guess) == False:\n",
    "    print(\"You guessed correctly\")"
   ]
  },
  {
   "cell_type": "code",
   "execution_count": null,
   "id": "de3a47f0",
   "metadata": {},
   "outputs": [],
   "source": [
    "## Code for finding the guess word inside the small.txt file\n",
    "## Stripped_line is used to get rid of spaces while reading the file, which was preventing the\n",
    "## guess word being checked against a line in the small.txt file\n",
    "with open(\"smallWords.txt\", \"r\") as sf:\n",
    "    for line in sf:\n",
    "        stripped_line = line.strip()\n",
    "        if stripped_line == guessWord:\n",
    "            print(\"Found Line\")"
   ]
  },
  {
   "cell_type": "code",
   "execution_count": null,
   "id": "160f0cf5",
   "metadata": {},
   "outputs": [],
   "source": [
    "#if bool(guessWord) == True:                   #THIS CODE WILL CHECK IF THE WORD THAT PLAYER HAS INPUT MATCHES THE SOURCE WORD\n",
    "  #  print(\"Your letters don't match\")\n",
    "#if bool(guessWord) == False:\n",
    " #   print(\"You guessed correctly\")"
   ]
  },
  {
   "cell_type": "code",
   "execution_count": null,
   "id": "6d1fdb92",
   "metadata": {},
   "outputs": [],
   "source": [
    "playername = input(\"Enter your name: \")        #AFTER PLAYER ENTERING THEIR NAME IT WILL START THE TIMER\n",
    "starttime = datetime.now()                     #STARTS THE TIMER \n",
    "\n",
    "\n",
    "justForExample = input(\"here the player will enter their guesses \")     #THIS IS WHERE THE PLAYER WILL HAVE TO INPUT THEIR\n",
    "                                                                        #GUESSES \n",
    "\n",
    "endtime = datetime.now()                                                #AFTER THE PLAYER WILL FINISH GUESSING IT WILL CREATE A \n",
    "                                                                        #A TIME STAMP TO A NEW VARIABLE\n",
    "    \n",
    "resulttime = endtime - starttime                                        #THIS WILL CALCUALTE THE TIME THAT TOOK THE PLAYER\n",
    "resulttime = str(resulttime)\n",
    "print('Congrats, your finish time is','',resulttime,'')                 #THIS PRINTS OUT THE TIME THAT TOOK THE PLAYER TO ANSWER\n",
    "    "
   ]
  },
  {
   "cell_type": "code",
   "execution_count": null,
   "id": "d9e0427c",
   "metadata": {},
   "outputs": [],
   "source": [
    "for x in range(len(guesswordList)):\n",
    "    for y in range(len(guesswordList) - 1):\n",
    "        if guesswordList[x] == guesswordList[y + 1]:\n",
    "            print(\"word duplicate\")"
   ]
  },
  {
   "cell_type": "code",
   "execution_count": null,
   "id": "bfd434c1",
   "metadata": {},
   "outputs": [],
   "source": [
    "def checkDupes(guesswordList):\n",
    "    if len(guesswordList) == len(set(guesswordList)):\n",
    "        return False\n",
    "    else:\n",
    "        return True\n",
    "\n",
    "result = checkDupes(guesswordList)"
   ]
  },
  {
   "cell_type": "code",
   "execution_count": null,
   "id": "3b11fb76",
   "metadata": {},
   "outputs": [],
   "source": [
    " duplicates = False\n",
    "if len(guesswordList) == len(set(guesswordList)):\n",
    "    duplicates = False\n",
    "else:\n",
    "    duplicates = True"
   ]
  },
  {
   "cell_type": "code",
   "execution_count": null,
   "id": "c64bcb6a",
   "metadata": {},
   "outputs": [],
   "source": [
    "duplicates\n"
   ]
  }
 ],
 "metadata": {
  "kernelspec": {
   "display_name": "Python 3 (ipykernel)",
   "language": "python",
   "name": "python3"
  },
  "language_info": {
   "codemirror_mode": {
    "name": "ipython",
    "version": 3
   },
   "file_extension": ".py",
   "mimetype": "text/x-python",
   "name": "python",
   "nbconvert_exporter": "python",
   "pygments_lexer": "ipython3",
   "version": "3.9.7"
  }
 },
 "nbformat": 4,
 "nbformat_minor": 5
}

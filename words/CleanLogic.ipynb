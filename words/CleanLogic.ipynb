{
 "cells": [
  {
   "cell_type": "code",
   "execution_count": 1,
   "id": "aa3311d2",
   "metadata": {},
   "outputs": [],
   "source": [
    "import random                      #HERE WE IMPORT THE RANDOM\n",
    "from collections import Counter    #IMPORTING THE COUNTER\n",
    "from datetime import datetime      #WE IMPORT THIS TO CHECK FOR TIME  \n",
    "from flask import Flask, request, render_template"
   ]
  },
  {
   "cell_type": "code",
   "execution_count": 2,
   "id": "8540750b",
   "metadata": {},
   "outputs": [],
   "source": [
    "with open('smallWords.txt',\"w\") as sf:\n",
    "    with open(\"bigWords.txt\",\"w\") as bf:\n",
    "        with open(\"words.txt\") as wf:\n",
    "            with open(\"endWord.txt\" , \"w\") as ff:\n",
    "                for w in wf:\n",
    "                    if \"'s\" not in w:\n",
    "                        print(w.lower().strip,file = ff)\n",
    "                    \n",
    "                    if len(w) > 7:\n",
    "                        print(w.lower().strip(), file = bf)\n",
    "                    else: \n",
    "                        print(w.lower().strip(),file = sf)\n",
    "                        \n",
    "with open (\"bigWords.txt\") as bigWordsList:\n",
    "    givenWords = bigWordsList.read()\n",
    "    \n",
    "global givenWords\n",
    "givenWord = (random.choice(givenWords.split()))"
   ]
  },
  {
   "cell_type": "code",
   "execution_count": 3,
   "id": "dc02d2c2",
   "metadata": {},
   "outputs": [
    {
     "ename": "RuntimeError",
     "evalue": "Working outside of request context.\n\nThis typically means that you attempted to use functionality that needed\nan active HTTP request.  Consult the documentation on testing for\ninformation about how to avoid this problem.",
     "output_type": "error",
     "traceback": [
      "\u001b[1;31m---------------------------------------------------------------------------\u001b[0m",
      "\u001b[1;31mRuntimeError\u001b[0m                              Traceback (most recent call last)",
      "\u001b[1;32m~\\AppData\\Local\\Temp/ipykernel_20552/2072738376.py\u001b[0m in \u001b[0;36m<module>\u001b[1;34m\u001b[0m\n\u001b[0;32m      2\u001b[0m     \u001b[0mwordlist\u001b[0m \u001b[1;33m=\u001b[0m \u001b[0mfullList\u001b[0m\u001b[1;33m.\u001b[0m\u001b[0mread\u001b[0m\u001b[1;33m(\u001b[0m\u001b[1;33m)\u001b[0m\u001b[1;33m\u001b[0m\u001b[1;33m\u001b[0m\u001b[0m\n\u001b[0;32m      3\u001b[0m \u001b[1;33m\u001b[0m\u001b[0m\n\u001b[1;32m----> 4\u001b[1;33m \u001b[0mplayerWords\u001b[0m \u001b[1;33m=\u001b[0m \u001b[0mrequest\u001b[0m\u001b[1;33m.\u001b[0m\u001b[0margs\u001b[0m\u001b[1;33m.\u001b[0m\u001b[0mget\u001b[0m\u001b[1;33m(\u001b[0m\u001b[1;34m\"words.txt\"\u001b[0m\u001b[1;33m)\u001b[0m\u001b[1;33m.\u001b[0m\u001b[0msplit\u001b[0m\u001b[1;33m(\u001b[0m\u001b[1;33m)\u001b[0m\u001b[1;33m\u001b[0m\u001b[1;33m\u001b[0m\u001b[0m\n\u001b[0m\u001b[0;32m      5\u001b[0m \u001b[1;33m\u001b[0m\u001b[0m\n\u001b[0;32m      6\u001b[0m \u001b[0mduplicateCounter\u001b[0m \u001b[1;33m=\u001b[0m \u001b[1;36m0\u001b[0m\u001b[1;33m\u001b[0m\u001b[1;33m\u001b[0m\u001b[0m\n",
      "\u001b[1;32m~\\miniconda3\\lib\\site-packages\\werkzeug\\local.py\u001b[0m in \u001b[0;36m__get__\u001b[1;34m(self, instance, owner)\u001b[0m\n\u001b[0;32m    430\u001b[0m \u001b[1;33m\u001b[0m\u001b[0m\n\u001b[0;32m    431\u001b[0m         \u001b[1;32mtry\u001b[0m\u001b[1;33m:\u001b[0m\u001b[1;33m\u001b[0m\u001b[1;33m\u001b[0m\u001b[0m\n\u001b[1;32m--> 432\u001b[1;33m             \u001b[0mobj\u001b[0m \u001b[1;33m=\u001b[0m \u001b[0minstance\u001b[0m\u001b[1;33m.\u001b[0m\u001b[0m_get_current_object\u001b[0m\u001b[1;33m(\u001b[0m\u001b[1;33m)\u001b[0m\u001b[1;33m\u001b[0m\u001b[1;33m\u001b[0m\u001b[0m\n\u001b[0m\u001b[0;32m    433\u001b[0m         \u001b[1;32mexcept\u001b[0m \u001b[0mRuntimeError\u001b[0m\u001b[1;33m:\u001b[0m\u001b[1;33m\u001b[0m\u001b[1;33m\u001b[0m\u001b[0m\n\u001b[0;32m    434\u001b[0m             \u001b[1;32mif\u001b[0m \u001b[0mself\u001b[0m\u001b[1;33m.\u001b[0m\u001b[0mfallback\u001b[0m \u001b[1;32mis\u001b[0m \u001b[1;32mNone\u001b[0m\u001b[1;33m:\u001b[0m\u001b[1;33m\u001b[0m\u001b[1;33m\u001b[0m\u001b[0m\n",
      "\u001b[1;32m~\\miniconda3\\lib\\site-packages\\werkzeug\\local.py\u001b[0m in \u001b[0;36m_get_current_object\u001b[1;34m(self)\u001b[0m\n\u001b[0;32m    552\u001b[0m         \"\"\"\n\u001b[0;32m    553\u001b[0m         \u001b[1;32mif\u001b[0m \u001b[1;32mnot\u001b[0m \u001b[0mhasattr\u001b[0m\u001b[1;33m(\u001b[0m\u001b[0mself\u001b[0m\u001b[1;33m.\u001b[0m\u001b[0m__local\u001b[0m\u001b[1;33m,\u001b[0m \u001b[1;34m\"__release_local__\"\u001b[0m\u001b[1;33m)\u001b[0m\u001b[1;33m:\u001b[0m  \u001b[1;31m# type: ignore\u001b[0m\u001b[1;33m\u001b[0m\u001b[1;33m\u001b[0m\u001b[0m\n\u001b[1;32m--> 554\u001b[1;33m             \u001b[1;32mreturn\u001b[0m \u001b[0mself\u001b[0m\u001b[1;33m.\u001b[0m\u001b[0m__local\u001b[0m\u001b[1;33m(\u001b[0m\u001b[1;33m)\u001b[0m  \u001b[1;31m# type: ignore\u001b[0m\u001b[1;33m\u001b[0m\u001b[1;33m\u001b[0m\u001b[0m\n\u001b[0m\u001b[0;32m    555\u001b[0m \u001b[1;33m\u001b[0m\u001b[0m\n\u001b[0;32m    556\u001b[0m         \u001b[1;32mtry\u001b[0m\u001b[1;33m:\u001b[0m\u001b[1;33m\u001b[0m\u001b[1;33m\u001b[0m\u001b[0m\n",
      "\u001b[1;32m~\\miniconda3\\lib\\site-packages\\flask\\globals.py\u001b[0m in \u001b[0;36m_lookup_req_object\u001b[1;34m(name)\u001b[0m\n\u001b[0;32m     31\u001b[0m     \u001b[0mtop\u001b[0m \u001b[1;33m=\u001b[0m \u001b[0m_request_ctx_stack\u001b[0m\u001b[1;33m.\u001b[0m\u001b[0mtop\u001b[0m\u001b[1;33m\u001b[0m\u001b[1;33m\u001b[0m\u001b[0m\n\u001b[0;32m     32\u001b[0m     \u001b[1;32mif\u001b[0m \u001b[0mtop\u001b[0m \u001b[1;32mis\u001b[0m \u001b[1;32mNone\u001b[0m\u001b[1;33m:\u001b[0m\u001b[1;33m\u001b[0m\u001b[1;33m\u001b[0m\u001b[0m\n\u001b[1;32m---> 33\u001b[1;33m         \u001b[1;32mraise\u001b[0m \u001b[0mRuntimeError\u001b[0m\u001b[1;33m(\u001b[0m\u001b[0m_request_ctx_err_msg\u001b[0m\u001b[1;33m)\u001b[0m\u001b[1;33m\u001b[0m\u001b[1;33m\u001b[0m\u001b[0m\n\u001b[0m\u001b[0;32m     34\u001b[0m     \u001b[1;32mreturn\u001b[0m \u001b[0mgetattr\u001b[0m\u001b[1;33m(\u001b[0m\u001b[0mtop\u001b[0m\u001b[1;33m,\u001b[0m \u001b[0mname\u001b[0m\u001b[1;33m)\u001b[0m\u001b[1;33m\u001b[0m\u001b[1;33m\u001b[0m\u001b[0m\n\u001b[0;32m     35\u001b[0m \u001b[1;33m\u001b[0m\u001b[0m\n",
      "\u001b[1;31mRuntimeError\u001b[0m: Working outside of request context.\n\nThis typically means that you attempted to use functionality that needed\nan active HTTP request.  Consult the documentation on testing for\ninformation about how to avoid this problem."
     ]
    }
   ],
   "source": [
    "with open (\"endWord.txt\") as fullList:\n",
    "    wordlist = fullList.read()\n",
    "\n",
    "playerWords = request.args.get(\"words.txt\").split()\n",
    "\n",
    "duplicateCounter = 0\n",
    "wordCounter = 0\n",
    "valid = True\n",
    "sevenWords = True\n",
    "acceptedWords = True\n",
    "\n",
    "for word in playerWords:\n",
    "    wordCounter = wordCounter + 1\n",
    "    if word.lower() not in wordList:\n",
    "        print(\"Not a real word!\")\n",
    "        outputMessage = \"One or more words does not exist\"\n",
    "        acceptedWords = False\n",
    "    if word.lower() == givenWord:\n",
    "        print(\"Player input the given word\")\n",
    "        outputMessage = \"Player has input the given\"\n",
    "        acceptedWords = False\n",
    "        sevenWords = False\n",
    "    if len(word) < 4:                                             #Checking the word is 4 characters and more \n",
    "        print (\"One or more words are shorter than 4 characters\")\n",
    "        outputMessage = \"One or more words are shorter than 4 characters!\"\n",
    "        acceptedWords = False\n",
    "        sevenWords = False"
   ]
  },
  {
   "cell_type": "code",
   "execution_count": null,
   "id": "c551bccb",
   "metadata": {},
   "outputs": [],
   "source": [
    "if acceptedWords == True:\n",
    "    if wordCounter > 7:\n",
    "        print(\"Too many wirds input\")\n",
    "        outputMessage = \"Too many Words input\"\n",
    "        sevenWords = False\n",
    "    if wordCounter < 7:\n",
    "        print(\"Not enough words input\")\n",
    "        outputMessage = \"Not enough words input\"\n",
    "        sevenWords = False\n",
    "    else:\n",
    "        for word in playerWords:\n",
    "            for secondWord in playerWords:\n",
    "                if word.lower() == secondWord.lower():\n",
    "                    duplicateCounter = duplicateCounter + 1 \n",
    "            \n",
    "        if duplicateCounter > 7:\n",
    "            print(\"dupe words :\", playerWords)\n",
    "            outputMessage = \"dupe words\"\n",
    "            sevenwords = False\n",
    "            "
   ]
  },
  {
   "cell_type": "code",
   "execution_count": null,
   "id": "c8640836",
   "metadata": {},
   "outputs": [],
   "source": []
  },
  {
   "cell_type": "code",
   "execution_count": null,
   "id": "397fc01e",
   "metadata": {},
   "outputs": [],
   "source": []
  },
  {
   "cell_type": "code",
   "execution_count": null,
   "id": "37e31d04",
   "metadata": {},
   "outputs": [],
   "source": []
  },
  {
   "cell_type": "code",
   "execution_count": null,
   "id": "35155820",
   "metadata": {},
   "outputs": [],
   "source": []
  },
  {
   "cell_type": "code",
   "execution_count": null,
   "id": "ed7d00ec",
   "metadata": {},
   "outputs": [],
   "source": [
    "sourceword = random.choice(list(open('bigWords.txt')))          #CREATING SOURCE WORD\n",
    "print(sourceword)"
   ]
  },
  {
   "cell_type": "code",
   "execution_count": null,
   "id": "d844c9d4",
   "metadata": {},
   "outputs": [],
   "source": [
    "## Code for finding out if all the characters inside the guess word, are the same as the characters in source word\n",
    "## It is using the elimination method, and if there is a remainder the word does not match and therefore is incorrect\n",
    "## answer\n",
    "mainWord = Counter(sourceword)\n",
    "guessWord = input(\"ENTER WORD: \")\n",
    "guess = Counter(guessWord)\n",
    "guess = guess - mainWord  "
   ]
  },
  {
   "cell_type": "code",
   "execution_count": null,
   "id": "160f0cf5",
   "metadata": {},
   "outputs": [],
   "source": [
    "if bool(guessWord) == True:                   #THIS CODE WILL CHECK IF THE WORD THAT PLAYER HAS INPUT MATCHES THE SOURCE WORD\n",
    "    print(\"Your letters don't match\")\n",
    "if bool(guessWord) == False:\n",
    "    print(\"You guessed correctly\")"
   ]
  },
  {
   "cell_type": "code",
   "execution_count": null,
   "id": "3b3554bb",
   "metadata": {},
   "outputs": [],
   "source": [
    "# Code for finding the guess word inside the small.txt file\n",
    "# Stripped_line is used to get rid of spaces while reading the file, which was preventing the\n",
    "# guess word being checked against a line in the small.txt file\n",
    "with open(\"smallWords.txt\", \"r\") as sf:\n",
    "    for line in sf:\n",
    "        stripped_line = line.strip()\n",
    "        if stripped_line == guessWord:\n",
    "            print(\"Found Line\")"
   ]
  },
  {
   "cell_type": "code",
   "execution_count": null,
   "id": "0d7ce1f4",
   "metadata": {},
   "outputs": [],
   "source": [
    "guesses = 0\n",
    "for guesses in range(7):\n",
    "    guessWord = input(\"ENTER WORD: \")\n",
    "    # HERE GOES THE CODE FOR CHECKING THE SMALL WORD AND ADDING GUESS TO SQL DATABASE"
   ]
  },
  {
   "cell_type": "code",
   "execution_count": null,
   "id": "6d1fdb92",
   "metadata": {},
   "outputs": [],
   "source": [
    "playername = input(\"Enter your name: \")        #AFTER PLAYER ENTERING THEIR NAME IT WILL START THE TIMER\n",
    "starttime = datetime.now()                     #STARTS THE TIMER \n",
    "\n",
    "\n",
    "justForExample = input(\"here the player will enter their guesses \")     #THIS IS WHERE THE PLAYER WILL HAVE TO INPUT THEIR\n",
    "                                                                        #GUESSES \n",
    "\n",
    "endtime = datetime.now()                                                #AFTER THE PLAYER WILL FINISH GUESSING IT WILL CREATE A \n",
    "                                                                        #A TIME STAMP TO A NEW VARIABLE\n",
    "    \n",
    "resulttime = endtime - starttime                                        #THIS WILL CALCUALTE THE TIME THAT TOOK THE PLAYER\n",
    "resulttime = str(resulttime)\n",
    "print('Congrats, your finish time is','',resulttime,'')                 #THIS PRINTS OUT THE TIME THAT TOOK THE PLAYER TO ANSWER\n",
    "    "
   ]
  },
  {
   "cell_type": "code",
   "execution_count": null,
   "id": "d950e618",
   "metadata": {},
   "outputs": [],
   "source": []
  },
  {
   "cell_type": "code",
   "execution_count": null,
   "id": "17696530",
   "metadata": {},
   "outputs": [],
   "source": []
  },
  {
   "cell_type": "code",
   "execution_count": null,
   "id": "98b6cbac",
   "metadata": {},
   "outputs": [],
   "source": []
  },
  {
   "cell_type": "code",
   "execution_count": null,
   "id": "1157800d",
   "metadata": {},
   "outputs": [],
   "source": []
  },
  {
   "cell_type": "code",
   "execution_count": null,
   "id": "1751358f",
   "metadata": {},
   "outputs": [],
   "source": []
  },
  {
   "cell_type": "code",
   "execution_count": null,
   "id": "19f64f88",
   "metadata": {},
   "outputs": [],
   "source": []
  },
  {
   "cell_type": "code",
   "execution_count": null,
   "id": "445f9b15",
   "metadata": {},
   "outputs": [],
   "source": []
  },
  {
   "cell_type": "code",
   "execution_count": null,
   "id": "52fb6738",
   "metadata": {},
   "outputs": [],
   "source": []
  },
  {
   "cell_type": "code",
   "execution_count": null,
   "id": "9fa0d01e",
   "metadata": {},
   "outputs": [],
   "source": []
  },
  {
   "cell_type": "markdown",
   "id": "7478a5ad",
   "metadata": {},
   "source": [
    " ## Left to do is the conditions of the game, rules"
   ]
  }
 ],
 "metadata": {
  "kernelspec": {
   "display_name": "Python 3 (ipykernel)",
   "language": "python",
   "name": "python3"
  },
  "language_info": {
   "codemirror_mode": {
    "name": "ipython",
    "version": 3
   },
   "file_extension": ".py",
   "mimetype": "text/x-python",
   "name": "python",
   "nbconvert_exporter": "python",
   "pygments_lexer": "ipython3",
   "version": "3.9.7"
  }
 },
 "nbformat": 4,
 "nbformat_minor": 5
}

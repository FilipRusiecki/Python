{
 "cells": [
  {
   "cell_type": "code",
   "execution_count": 1,
   "id": "aa3311d2",
   "metadata": {},
   "outputs": [],
   "source": [
    "import random\n",
    "from collections import Counter"
   ]
  },
  {
   "cell_type": "code",
   "execution_count": 2,
   "id": "8540750b",
   "metadata": {},
   "outputs": [],
   "source": [
    "with open('small.txt',\"w\") as sf:\n",
    "    with open(\"big.txt\",\"w\") as bf:\n",
    "        with open(\"words.txt\") as wf:\n",
    "            for w in wf:\n",
    "                if \"'s\" not in w:\n",
    "                    if len(w) > 7:\n",
    "                        print(w.strip(), file = bf)\n",
    "                    else: \n",
    "                        print(w.strip(),file = sf)"
   ]
  },
  {
   "cell_type": "code",
   "execution_count": 3,
   "id": "ed7d00ec",
   "metadata": {},
   "outputs": [
    {
     "name": "stdout",
     "output_type": "stream",
     "text": [
      "encrusts\n",
      "\n"
     ]
    }
   ],
   "source": [
    "sourceword = random.choice(list(open('big.txt')))           #Assigning a random word to the sourceword variable\n",
    "print(sourceword)"
   ]
  },
  {
   "cell_type": "code",
   "execution_count": 8,
   "id": "d844c9d4",
   "metadata": {},
   "outputs": [
    {
     "name": "stdout",
     "output_type": "stream",
     "text": [
      "ENTER WORD: crust\n"
     ]
    }
   ],
   "source": [
    "## Code for finding out if all the characters inside the guess word, are the same as the characters in source word\n",
    "## It is using the elimination method, and if there is a remainder the word does not match and therefore is incorrect\n",
    "## answer\n",
    "mainWord = Counter(sourceword)\n",
    "guessWord = input(\"ENTER WORD: \")\n",
    "guess = Counter(guessWord)\n",
    "guess = guess - mainWord  "
   ]
  },
  {
   "cell_type": "code",
   "execution_count": 10,
   "id": "160f0cf5",
   "metadata": {},
   "outputs": [
    {
     "name": "stdout",
     "output_type": "stream",
     "text": [
      "Your letters don't match\n"
     ]
    }
   ],
   "source": [
    "## Code for printing out if the guess word matches the sourceword\n",
    "if bool(guessWord) == True:\n",
    "    print(\"Your letters don't match\")\n",
    "if bool(guessWord) == False:\n",
    "    print(\"You guessed correctly\")"
   ]
  },
  {
   "cell_type": "code",
   "execution_count": 11,
   "id": "3b3554bb",
   "metadata": {},
   "outputs": [
    {
     "name": "stdout",
     "output_type": "stream",
     "text": [
      "Found Line\n"
     ]
    }
   ],
   "source": [
    "## Code for finding the guess word inside the small.txt file\n",
    "## Stripped_line is used to get rid of spaces while reading the file, which was preventing the\n",
    "## guess word being checked against a line in the small.txt file\n",
    "with open(\"small.txt\", \"r\") as sf:\n",
    "    for line in sf:\n",
    "        stripped_line = line.strip()\n",
    "        if stripped_line == guessWord:\n",
    "            print(\"Found Line\")"
   ]
  },
  {
   "cell_type": "code",
   "execution_count": null,
   "id": "0d7ce1f4",
   "metadata": {},
   "outputs": [],
   "source": [
    "guesses = 0\n",
    "for guesses in range(7):\n",
    "    guessWord = input(\"ENTER WORD: \")\n",
    "    ## Here goes the code for checking the small word, and adding the guess to the SQL Database"
   ]
  },
  {
   "cell_type": "markdown",
   "id": "7d449ffb",
   "metadata": {},
   "source": [
    "## Left to do is the conditions of the game, rules, and a timer"
   ]
  }
 ],
 "metadata": {
  "kernelspec": {
   "display_name": "Python 3 (ipykernel)",
   "language": "python",
   "name": "python3"
  },
  "language_info": {
   "codemirror_mode": {
    "name": "ipython",
    "version": 3
   },
   "file_extension": ".py",
   "mimetype": "text/x-python",
   "name": "python",
   "nbconvert_exporter": "python",
   "pygments_lexer": "ipython3",
   "version": "3.9.7"
  }
 },
 "nbformat": 4,
 "nbformat_minor": 5
}

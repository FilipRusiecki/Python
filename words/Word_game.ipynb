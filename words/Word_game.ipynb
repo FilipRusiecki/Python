{
 "cells": [
  {
   "cell_type": "code",
   "execution_count": 1,
   "id": "aa3311d2",
   "metadata": {},
   "outputs": [],
   "source": [
    "import random\n",
    "from collections import Counter"
   ]
  },
  {
   "cell_type": "code",
   "execution_count": 5,
   "id": "8540750b",
   "metadata": {},
   "outputs": [],
   "source": [
    "with open('final.txt', \"w\") as fw:\n",
    "    with open('small.txt',\"w\") as sf:\n",
    "        with open(\"big.txt\",\"w\") as bf:\n",
    "            with open(\"words.txt\") as wf:\n",
    "                for w in wf:\n",
    "                    if \"'s\" not in w:\n",
    "                        print(w.strip().lower(), file = fw)\n",
    "                        if len(w) > 7:\n",
    "                            print(w.strip().lower(), file = bf)\n",
    "                        else: \n",
    "                            print(w.strip().lower(),file = sf)"
   ]
  },
  {
   "cell_type": "code",
   "execution_count": 6,
   "id": "ed7d00ec",
   "metadata": {},
   "outputs": [
    {
     "name": "stdout",
     "output_type": "stream",
     "text": [
      "calloused\n",
      "\n"
     ]
    }
   ],
   "source": [
    "sourceword = random.choice(list(open('big.txt')))           #Assigning a random word to the sourceword variable\n",
    "print(sourceword)"
   ]
  },
  {
   "cell_type": "code",
   "execution_count": 24,
   "id": "d844c9d4",
   "metadata": {},
   "outputs": [
    {
     "name": "stdout",
     "output_type": "stream",
     "text": [
      "Enter Words:call\n",
      "it is found\n",
      "You guessed correctly\n",
      "Enter Words:ouse\n",
      "The word is not real\n",
      "Enter Words:call\n",
      "it is found\n",
      "You guessed correctly\n",
      "Enter Words:laac\n",
      "The word is not real\n",
      "Enter Words:quack\n",
      "it is found\n",
      "Your letters don't match\n"
     ]
    }
   ],
   "source": [
    "## Code for finding out if all the characters inside the guess word, are the same as the characters in source word\n",
    "## It is using the elimination method, and if there is a remainder the word does not match and therefore is incorrect\n",
    "## answer\n",
    "mainWord = Counter(sourceword)\n",
    "guesswordList = []\n",
    "wordWrong = False\n",
    "wordRight = False\n",
    "for guesses in range(7):                           \n",
    "    guessWord = (input(\"Enter Words:\"))            # Creates a string that will store the guessWord\n",
    "    guesswordList.append(guessWord)                # Adds to the end of the list which contains all the guess words\n",
    "    guess = Counter(guessWord)                     # Creates a counter which counts all the letters to check against the source word\n",
    "    guess = guess - mainWord                       # Checks if all the letters inside the source word, match the letters inside the guess word\n",
    "    mainWord = Counter(sourceword)                 # Reassigns the source word to main word, so you can check the next word\n",
    "    \n",
    "    with open(\"final.txt\", \"r\") as sf:\n",
    "        for line in sf:\n",
    "            stripped_line = line.strip()\n",
    "            if stripped_line == guessWord:\n",
    "                wordRight = True\n",
    "                break\n",
    "            else:\n",
    "                wordRight = False\n",
    "                \n",
    "    \n",
    "    \n",
    "    if wordRight == False:\n",
    "        print(\"The word is not real\")\n",
    "    if wordRight == True:\n",
    "        print(\"it is found\")\n",
    "        wordRight = False\n",
    "        if bool(guess) == True: # Checks if the guess word is empty, and if it isn't, the letters don't match\n",
    "            print(\"Your letters don't match\")\n",
    "            wordWrong = True ## this will currently break out of the loop, if the word does not match\n",
    "            break;\n",
    "        if bool(guess) == False: # Checks if the guess word is empty, and if it is, then the letters match\n",
    "            print(\"You guessed correctly\")\n",
    "    \n",
    "        \n",
    "    \n",
    "    ## Add bools which will check if one of the words does not match the "
   ]
  },
  {
   "cell_type": "code",
   "execution_count": null,
   "id": "160f0cf5",
   "metadata": {},
   "outputs": [],
   "source": [
    "## Code for printing out if the guess word matches the sourceword\n",
    "if bool(guess) == True: # Checks if the guess word is empty, and if it isn't, the letters don't match\n",
    "    print(\"Your letters don't match\")\n",
    "if bool(guess) == False: # Checks if the guess word is empty, and if it is, then the letters match\n",
    "    print(\"You guessed correctly\")"
   ]
  },
  {
   "cell_type": "code",
   "execution_count": 10,
   "id": "3b3554bb",
   "metadata": {},
   "outputs": [],
   "source": [
    "## Code for finding the guess word inside the small.txt file\n",
    "## Stripped_line is used to get rid of spaces while reading the file, which was preventing the\n",
    "## guess word being checked against a line in the small.txt file\n",
    "def checkIfInSmallTxT():\n",
    "    with open(\"small.txt\", \"r\") as sf:\n",
    "        for line in sf:\n",
    "            stripped_line = line.strip()\n",
    "            if stripped_line == guessWord:\n",
    "                print(\"Found Line\")"
   ]
  },
  {
   "cell_type": "code",
   "execution_count": null,
   "id": "0d7ce1f4",
   "metadata": {},
   "outputs": [],
   "source": [
    "## THIS IS USED IN THE 4th BLOCK OF CODE, WHERE IT HAS BEEN ADAPTED FOR OUR GAME USE\n",
    "#guesswordList = []\n",
    "#for guesses in range(7):\n",
    "    #guessWord = \"\"                            # Creates a string that will store the guessWord\n",
    "    #guessWord = (input(\"Enter Words:\")) \n",
    "    #guesswordList.append(guessWord)\n",
    "    #type(guessWord)\n",
    "    \n",
    "    ## Here goes the code for checking the small word, and adding the guess to the SQL Database"
   ]
  },
  {
   "cell_type": "markdown",
   "id": "7d449ffb",
   "metadata": {},
   "source": [
    "## Left to do is the conditions of the game and a timer\n",
    "# for the timer, use timedelta,\n",
    "# conditions to complete: if the word is shorter than 3 letters\n",
    "# bugs to edit: change the wordWrong bool usage, to allow the player to write down all words, and then check if they are wrong"
   ]
  },
  {
   "cell_type": "code",
   "execution_count": 21,
   "id": "ecff82ad",
   "metadata": {},
   "outputs": [
    {
     "name": "stdout",
     "output_type": "stream",
     "text": [
      "word duplicate\n",
      "word duplicate\n"
     ]
    }
   ],
   "source": [
    "for x in range(len(guesswordList)):\n",
    "    for y in range(len(guesswordList) - 1):\n",
    "        if guesswordList[x] == guesswordList[y + 1]:\n",
    "            print(\"word duplicate\")"
   ]
  },
  {
   "cell_type": "code",
   "execution_count": 17,
   "id": "de122011",
   "metadata": {},
   "outputs": [
    {
     "data": {
      "text/plain": [
       "'lloused'"
      ]
     },
     "execution_count": 17,
     "metadata": {},
     "output_type": "execute_result"
    }
   ],
   "source": [
    "guesswordList[0]"
   ]
  },
  {
   "cell_type": "code",
   "execution_count": 18,
   "id": "ffb34abe",
   "metadata": {},
   "outputs": [
    {
     "name": "stdout",
     "output_type": "stream",
     "text": [
      "['lloused', 'call', 'usrd']\n"
     ]
    }
   ],
   "source": [
    "print(guesswordList)"
   ]
  },
  {
   "cell_type": "code",
   "execution_count": 26,
   "id": "43864a23",
   "metadata": {},
   "outputs": [],
   "source": [
    "def checkDupes(guesswordList):\n",
    "    if len(guesswordList) == len(set(guesswordList)):\n",
    "        return False\n",
    "    else:\n",
    "        return True\n",
    "\n",
    "result = checkDupes(guesswordList)"
   ]
  },
  {
   "cell_type": "code",
   "execution_count": 27,
   "id": "03fad6e7",
   "metadata": {},
   "outputs": [
    {
     "data": {
      "text/plain": [
       "True"
      ]
     },
     "execution_count": 27,
     "metadata": {},
     "output_type": "execute_result"
    }
   ],
   "source": [
    "result"
   ]
  },
  {
   "cell_type": "code",
   "execution_count": 25,
   "id": "9105ad5e",
   "metadata": {},
   "outputs": [
    {
     "name": "stdout",
     "output_type": "stream",
     "text": [
      "['call', 'ouse', 'call', 'laac', 'quack']\n"
     ]
    }
   ],
   "source": [
    "print(guesswordList)"
   ]
  },
  {
   "cell_type": "code",
   "execution_count": 28,
   "id": "a8e97f31",
   "metadata": {},
   "outputs": [],
   "source": [
    "duplicates = False\n",
    "if len(guesswordList) == len(set(guesswordList)):\n",
    "    duplicates = False\n",
    "else:\n",
    "    duplicates = True"
   ]
  },
  {
   "cell_type": "code",
   "execution_count": 29,
   "id": "118d9201",
   "metadata": {},
   "outputs": [
    {
     "data": {
      "text/plain": [
       "True"
      ]
     },
     "execution_count": 29,
     "metadata": {},
     "output_type": "execute_result"
    }
   ],
   "source": [
    "duplicates"
   ]
  },
  {
   "cell_type": "code",
   "execution_count": null,
   "id": "50d84baa",
   "metadata": {},
   "outputs": [],
   "source": []
  }
 ],
 "metadata": {
  "kernelspec": {
   "display_name": "Python 3 (ipykernel)",
   "language": "python",
   "name": "python3"
  },
  "language_info": {
   "codemirror_mode": {
    "name": "ipython",
    "version": 3
   },
   "file_extension": ".py",
   "mimetype": "text/x-python",
   "name": "python",
   "nbconvert_exporter": "python",
   "pygments_lexer": "ipython3",
   "version": "3.9.7"
  }
 },
 "nbformat": 4,
 "nbformat_minor": 5
}

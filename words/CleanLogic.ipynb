{
 "cells": [
  {
   "cell_type": "code",
   "execution_count": null,
   "id": "aa3311d2",
   "metadata": {},
   "outputs": [],
   "source": [
    "import random                      #HERE WE IMPORT THE RANDOM\n",
    "from collections import Counter    #IMPORTING THE COUNTER\n",
    "from datetime import datetime      #WE IMPORT THIS TO CHECK FOR TIME  "
   ]
  },
  {
   "cell_type": "code",
   "execution_count": null,
   "id": "8540750b",
   "metadata": {},
   "outputs": [],
   "source": [
    "with open('smallWords.txt',\"w\") as sf:\n",
    "    with open(\"bigWords.txt\",\"w\") as bf:\n",
    "        with open(\"words.txt\") as wf:\n",
    "            for w in wf:\n",
    "                if \"'s\" not in w:\n",
    "                    if len(w) > 7:\n",
    "                        print(w.strip(), file = bf)\n",
    "                    else: \n",
    "                        print(w.strip(),file = sf)"
   ]
  },
  {
   "cell_type": "code",
   "execution_count": null,
   "id": "ed7d00ec",
   "metadata": {},
   "outputs": [],
   "source": [
    "sourceword = random.choice(list(open('bigWords.txt')))          #CREATING SOURCE WORD\n",
    "print(sourceword)"
   ]
  },
  {
   "cell_type": "code",
   "execution_count": null,
   "id": "d844c9d4",
   "metadata": {},
   "outputs": [],
   "source": [
    "## Code for finding out if all the characters inside the guess word, are the same as the characters in source word\n",
    "## It is using the elimination method, and if there is a remainder the word does not match and therefore is incorrect\n",
    "## answer\n",
    "mainWord = Counter(sourceword)\n",
    "guessWord = input(\"ENTER WORD: \")\n",
    "guess = Counter(guessWord)\n",
    "guess = guess - mainWord  "
   ]
  },
  {
   "cell_type": "code",
   "execution_count": null,
   "id": "160f0cf5",
   "metadata": {},
   "outputs": [],
   "source": [
    "if bool(guessWord) == True:                   #THIS CODE WILL CHECK IF THE WORD THAT PLAYER HAS INPUT MATCHES THE SOURCE WORD\n",
    "    print(\"Your letters don't match\")\n",
    "if bool(guessWord) == False:\n",
    "    print(\"You guessed correctly\")"
   ]
  },
  {
   "cell_type": "code",
   "execution_count": null,
   "id": "3b3554bb",
   "metadata": {},
   "outputs": [],
   "source": [
    "# Code for finding the guess word inside the small.txt file\n",
    "# Stripped_line is used to get rid of spaces while reading the file, which was preventing the\n",
    "# guess word being checked against a line in the small.txt file\n",
    "with open(\"smallWords.txt\", \"r\") as sf:\n",
    "    for line in sf:\n",
    "        stripped_line = line.strip()\n",
    "        if stripped_line == guessWord:\n",
    "            print(\"Found Line\")"
   ]
  },
  {
   "cell_type": "code",
   "execution_count": null,
   "id": "0d7ce1f4",
   "metadata": {},
   "outputs": [],
   "source": [
    "guesses = 0\n",
    "for guesses in range(7):\n",
    "    guessWord = input(\"ENTER WORD: \")\n",
    "    # HERE GOES THE CODE FOR CHECKING THE SMALL WORD AND ADDING GUESS TO SQL DATABASE"
   ]
  },
  {
   "cell_type": "code",
   "execution_count": null,
   "id": "6d1fdb92",
   "metadata": {},
   "outputs": [],
   "source": [
    "playername = input(\"Enter your name: \")        #AFTER PLAYER ENTERING THEIR NAME IT WILL START THE TIMER\n",
    "starttime = datetime.now()                     #STARTS THE TIMER \n",
    "\n",
    "\n",
    "justForExample = input(\"here the player will enter their guesses \")     #THIS IS WHERE THE PLAYER WILL HAVE TO INPUT THEIR\n",
    "                                                                        #GUESSES \n",
    "\n",
    "endtime = datetime.now()                                                #AFTER THE PLAYER WILL FINISH GUESSING IT WILL CREATE A \n",
    "                                                                        #A TIME STAMP TO A NEW VARIABLE\n",
    "    \n",
    "resulttime = endtime - starttime                                        #THIS WILL CALCUALTE THE TIME THAT TOOK THE PLAYER\n",
    "resulttime = str(resulttime)\n",
    "print('Congrats, your finish time is','',resulttime,'')                 #THIS PRINTS OUT THE TIME THAT TOOK THE PLAYER TO ANSWER\n",
    "    "
   ]
  },
  {
   "cell_type": "markdown",
   "id": "7478a5ad",
   "metadata": {},
   "source": [
    " ## Left to do is the conditions of the game, rules"
   ]
  }
 ],
 "metadata": {
  "kernelspec": {
   "display_name": "Python 3 (ipykernel)",
   "language": "python",
   "name": "python3"
  },
  "language_info": {
   "codemirror_mode": {
    "name": "ipython",
    "version": 3
   },
   "file_extension": ".py",
   "mimetype": "text/x-python",
   "name": "python",
   "nbconvert_exporter": "python",
   "pygments_lexer": "ipython3",
   "version": "3.9.7"
  }
 },
 "nbformat": 4,
 "nbformat_minor": 5
}
